{
  "nbformat": 4,
  "nbformat_minor": 0,
  "metadata": {
    "colab": {
      "provenance": [],
      "collapsed_sections": [],
      "authorship_tag": "ABX9TyOnQ+dUJjUb3sYLWOwzHj+1",
      "include_colab_link": true
    },
    "kernelspec": {
      "name": "python3",
      "display_name": "Python 3"
    },
    "language_info": {
      "name": "python"
    }
  },
  "cells": [
    {
      "cell_type": "markdown",
      "metadata": {
        "id": "view-in-github",
        "colab_type": "text"
      },
      "source": [
        "<a href=\"https://colab.research.google.com/github/JoeHodari/Password_Generator/blob/main/Password_generator.ipynb\" target=\"_parent\"><img src=\"https://colab.research.google.com/assets/colab-badge.svg\" alt=\"Open In Colab\"/></a>"
      ]
    },
    {
      "cell_type": "code",
      "execution_count": 6,
      "metadata": {
        "colab": {
          "base_uri": "https://localhost:8080/"
        },
        "id": "bfhWq8KkRjyv",
        "outputId": "ef0c2312-5a7d-4427-c2ef-08bd97e643a0"
      },
      "outputs": [
        {
          "output_type": "stream",
          "name": "stdout",
          "text": [
            "Password:  jG4\"'97St2\n"
          ]
        }
      ],
      "source": [
        "import random\n",
        "import string\n",
        "\n",
        "#A function to shuffle all the characters of a string\n",
        "def shuffle(string):\n",
        "  tempList = list(string)\n",
        "  random.shuffle(tempList)\n",
        "  return ''.join(tempList)\n",
        "\n",
        "#Main program \n",
        "\n",
        "#Generate a random Uppercase letter (based on ASCII code)\n",
        "uppercaseLetter1=chr(random.randint(65,90)) \n",
        "uppercaseLetter2=chr(random.randint(65,90)) \n",
        "\n",
        "#Generate a random lowercase letter (based on ASCII code)\n",
        "lowercaseLetter1=chr(random.randint(98,120))\n",
        "lowercaseLetter2=chr(random.randint(98,120))\n",
        "\n",
        "#Generate a random digit (based on ASCII code)\n",
        "digit1=random.randint(20,400)\n",
        "digit2=random.randint(20,400)\n",
        "\n",
        "#Generate a random punctuation sign (based on ASCII code)\n",
        "punctuationSign1=random.choice(string.punctuation)\n",
        "punctuationSign2=random.choice(string.punctuation)\n",
        "\n",
        "\n",
        "#Generate password using all the characters, in random order\n",
        "password = uppercaseLetter1 + uppercaseLetter2 + lowercaseLetter1 + lowercaseLetter2 + str(digit1) + str(digit2) + punctuationSign1 + punctuationSign2\n",
        "password = shuffle(password)\n",
        "\n",
        "#Ouput\n",
        "print(\"Password: \", password)"
      ]
    }
  ]
}